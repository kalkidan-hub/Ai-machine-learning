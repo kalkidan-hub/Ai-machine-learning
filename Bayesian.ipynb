{
 "cells": [
  {
   "cell_type": "code",
   "execution_count": 83,
   "metadata": {},
   "outputs": [],
   "source": [
    "import pandas as pd\n",
    "from collections import defaultdict\n",
    "import math\n",
    "import matplotlib.pyplot as plt"
   ]
  },
  {
   "cell_type": "code",
   "execution_count": 72,
   "metadata": {},
   "outputs": [],
   "source": [
    "data = pd.read_csv(\"bbc-text.csv\")\n",
    "data = data[:int(0.8*len(data))] ## saving the rest for the testing \n",
    "# data"
   ]
  },
  {
   "attachments": {},
   "cell_type": "markdown",
   "metadata": {},
   "source": [
    "Feature Extraction 1, Bag of words"
   ]
  },
  {
   "cell_type": "code",
   "execution_count": 73,
   "metadata": {},
   "outputs": [],
   "source": [
    "\n",
    "catagories = ['sport','business','politics','tech','entertainment']\n",
    "document_len = len(data)\n",
    "prob_of_catagory = {i:math.log(len(data[data['category']==i])/document_len) for i in catagories}\n",
    "# print(prob_of_catagory)\n"
   ]
  },
  {
   "cell_type": "code",
   "execution_count": 80,
   "metadata": {},
   "outputs": [],
   "source": [
    "# constructing vocabulary\n",
    "def bag_word():\n",
    "    txt = data['text']\n",
    "    Vocabulary = defaultdict(int)\n",
    "    for i in txt:\n",
    "        words = i.split()\n",
    "        for i in words:\n",
    "            Vocabulary[i] = 0.5\n",
    "    return Vocabulary\n",
    "\n",
    "# print(bag_word())"
   ]
  },
  {
   "cell_type": "code",
   "execution_count": 81,
   "metadata": {},
   "outputs": [],
   "source": [
    "def trainNaiveBayes():\n",
    "\n",
    "    \n",
    "    super_dict = defaultdict()\n",
    "\n",
    "    for i in range(len(catagories)):\n",
    "        \n",
    "        data_per_cat = data[data['category'] == catagories[i]]\n",
    "        \n",
    "        Vocabulary = bag_word()\n",
    "\n",
    "        w = data_per_cat['text']\n",
    "        for word in w:\n",
    "            word = word.split()\n",
    "            for k in word:\n",
    "                Vocabulary[k] += 1\n",
    "\n",
    "        len_word = sum([i for i in Vocabulary.values() if i != 1])\n",
    "        for wi in Vocabulary:\n",
    "            Vocabulary[wi] = math.log(Vocabulary[wi]/len_word)\n",
    "            \n",
    "        \n",
    "        super_dict[catagories[i]] = Vocabulary\n",
    "    \n",
    "    return super_dict  \n",
    "      \n"
   ]
  },
  {
   "cell_type": "code",
   "execution_count": 82,
   "metadata": {},
   "outputs": [
    {
     "data": {
      "text/plain": [
       "0.9943820224719101"
      ]
     },
     "execution_count": 82,
     "metadata": {},
     "output_type": "execute_result"
    }
   ],
   "source": [
    "test_doc = data[int(0.8*len(data)):]\n",
    "test_doc = test_doc['text']\n",
    "Vocabulary = bag_word()\n",
    "super_dict = trainNaiveBayes()\n",
    "\n",
    "# important places to look up,\n",
    "# catagories, prob_of_catagory, Vocabulary and super_dict\n",
    "\n",
    "def testing(test_doc):\n",
    "\n",
    "    decision = []\n",
    "    for k in test_doc:\n",
    "        big_s = [None]*len(catagories)\n",
    "        for i in range(len(catagories)):\n",
    "            data_from_training = super_dict[catagories[i]]\n",
    "            big_s[i] = prob_of_catagory[catagories[i]] #prior\n",
    "            words = k.split()\n",
    "            for w in words:\n",
    "                if w in Vocabulary:\n",
    "                    big_s[i] += data_from_training[w]\n",
    "        cat = catagories[big_s.index(max(big_s))]\n",
    "        decision.append(cat)\n",
    "\n",
    "    return decision        \n",
    "\n",
    "result = testing(test_doc) \n",
    "againist = data[int(0.8*len(data)):]['category']\n",
    "\n",
    "accurate = 0\n",
    "for i in range(len(result)):\n",
    "    if result[i] == againist[i+1424]:\n",
    "        accurate += 1\n",
    "\n",
    "accuracy =  accurate/len(result)\n",
    "accuracy"
   ]
  },
  {
   "cell_type": "code",
   "execution_count": 88,
   "metadata": {},
   "outputs": [
    {
     "data": {
      "text/html": [
       "<div>\n",
       "<style scoped>\n",
       "    .dataframe tbody tr th:only-of-type {\n",
       "        vertical-align: middle;\n",
       "    }\n",
       "\n",
       "    .dataframe tbody tr th {\n",
       "        vertical-align: top;\n",
       "    }\n",
       "\n",
       "    .dataframe thead th {\n",
       "        text-align: right;\n",
       "    }\n",
       "</style>\n",
       "<table border=\"1\" class=\"dataframe\">\n",
       "  <thead>\n",
       "    <tr style=\"text-align: right;\">\n",
       "      <th></th>\n",
       "      <th>Laplace Smoothing</th>\n",
       "      <th>Accuracy</th>\n",
       "    </tr>\n",
       "  </thead>\n",
       "  <tbody>\n",
       "    <tr>\n",
       "      <th>0</th>\n",
       "      <td>0.1</td>\n",
       "      <td>0.997191</td>\n",
       "    </tr>\n",
       "    <tr>\n",
       "      <th>1</th>\n",
       "      <td>0.5</td>\n",
       "      <td>0.994382</td>\n",
       "    </tr>\n",
       "    <tr>\n",
       "      <th>2</th>\n",
       "      <td>1.0</td>\n",
       "      <td>0.988764</td>\n",
       "    </tr>\n",
       "    <tr>\n",
       "      <th>3</th>\n",
       "      <td>10.0</td>\n",
       "      <td>0.935393</td>\n",
       "    </tr>\n",
       "    <tr>\n",
       "      <th>4</th>\n",
       "      <td>100.0</td>\n",
       "      <td>0.735955</td>\n",
       "    </tr>\n",
       "    <tr>\n",
       "      <th>5</th>\n",
       "      <td>500.0</td>\n",
       "      <td>0.508427</td>\n",
       "    </tr>\n",
       "  </tbody>\n",
       "</table>\n",
       "</div>"
      ],
      "text/plain": [
       "   Laplace Smoothing  Accuracy\n",
       "0                0.1  0.997191\n",
       "1                0.5  0.994382\n",
       "2                1.0  0.988764\n",
       "3               10.0  0.935393\n",
       "4              100.0  0.735955\n",
       "5              500.0  0.508427"
      ]
     },
     "execution_count": 88,
     "metadata": {},
     "output_type": "execute_result"
    }
   ],
   "source": [
    "dataS = {\n",
    "    'Laplace Smoothing': [ 0.1, 0.5, 1.0, 10, 100,500],\n",
    "    'Accuracy': [0.9971910112359551,0.9943820224719101,0.9887640449438202,0.9353932584269663,0.7359550561797753,0.5084269662921348],\n",
    "\n",
    "} ## data collected by experimenting with different laplace smoothings...\n",
    "df = pd.DataFrame(dataS)\n",
    "df"
   ]
  },
  {
   "cell_type": "code",
   "execution_count": 89,
   "metadata": {},
   "outputs": [
    {
     "data": {
      "image/png": "[encoded data removed]",
      "text/plain": [
       "<Figure size 640x480 with 1 Axes>"
      ]
     },
     "metadata": {},
     "output_type": "display_data"
    }
   ],
   "source": [
    "plt.plot(dataS['Laplace Smoothing'],dataS['Accuracy'])\n",
    "plt.title(\"Accuracy againist Laplace smoothing\")\n",
    "plt.xlabel(\"Laplace Smoothing\")\n",
    "plt.ylabel(\"Accuracy\")\n",
    "plt.show()"
   ]
  },
  {
   "cell_type": "code",
   "execution_count": null,
   "metadata": {},
   "outputs": [],
   "source": [
    "# feature extraction"
   ]
  }
 ],
 "metadata": {
  "kernelspec": {
   "display_name": "exhaustivePip",
   "language": "python",
   "name": "python3"
  },
  "language_info": {
   "codemirror_mode": {
    "name": "ipython",
    "version": 3
   },
   "file_extension": ".py",
   "mimetype": "text/x-python",
   "name": "python",
   "nbconvert_exporter": "python",
   "pygments_lexer": "ipython3",
   "version": "3.11.0"
  },
  "orig_nbformat": 4
 },
 "nbformat": 4,
 "nbformat_minor": 2
}
